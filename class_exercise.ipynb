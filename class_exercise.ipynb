{
 "cells": [
  {
   "cell_type": "markdown",
   "metadata": {},
   "source": [
    "## Exercise 2: Quantiles, IQR, Whiskers, Boxplot, Outliers\n",
    "From the ECDF, we get a fairly good picture of the distribution of the data: A **quantile** adjusts the concept of the median so that instead of 50% of the mass below and 50% above, the $q$-quantile has $q$% of the mass below and $(1-q)$% of the mass above.\n",
    "\n",
    "Write a Python class that:\n",
    "- Computes the ECDF $\\hat{F}_N(x)$\n",
    "- Has a method to compute any quantile without using Numpy\n",
    "- Has a method to compute the **Interquartile Range (IQR)** -- the .25 quantile and the .75 quantile, which brackets 50% of the data -- and the **whiskers**: $\\pm 1.5 \\times \\text{IQR}$ from the edges of the IQR\n",
    "- Has a method to compute a five-number summary/boxplot: the whiskers, the minimum and maximum, the IQR and the median\n",
    "- Compare your answers with `sns.boxplot`; making a boxplot yourself is kind of a pain, but you could make a 5-number summary visualization\n",
    "- Anything outside the whiskers is an **outlier**; write a method that returns a Boolean vector indicating if the observations are outliers\n",
    "\n",
    "Then use your ECDF class to analyze numeric variables from a dataset of your choice"
   ]
  },
  {
   "cell_type": "code",
   "execution_count": 3,
   "metadata": {},
   "outputs": [
    {
     "name": "stdout",
     "output_type": "stream",
     "text": [
      "Downloading course data...\n",
      "Download complete\n",
      "Extracting data files...\n",
      "Data extracted\n"
     ]
    },
    {
     "data": {
      "text/plain": [
       "'data'"
      ]
     },
     "execution_count": 3,
     "metadata": {},
     "output_type": "execute_result"
    }
   ],
   "source": [
    "#Get Data\n",
    "def download_data(force=False):\n",
    "    \"\"\"Download and extract course data from Zenodo.\"\"\"\n",
    "    import urllib.request\n",
    "    import zipfile\n",
    "    import os\n",
    "    \n",
    "    zip_path = 'data.zip'\n",
    "    data_dir = 'data'\n",
    "    \n",
    "    if not os.path.exists(zip_path) or force:\n",
    "        print(\"Downloading course data...\")\n",
    "        urllib.request.urlretrieve(\n",
    "            'https://zenodo.org/records/16954427/files/data.zip?download=1',\n",
    "            zip_path\n",
    "        )\n",
    "        print(\"Download complete\")\n",
    "    \n",
    "    if not os.path.exists(data_dir):\n",
    "        print(\"Extracting data files...\")\n",
    "        with zipfile.ZipFile(zip_path, 'r') as zip_ref:\n",
    "            zip_ref.extractall(data_dir)\n",
    "        print(\"Data extracted\")\n",
    "    \n",
    "    return data_dir\n",
    "\n",
    "download_data()\n"
   ]
  },
  {
   "cell_type": "code",
   "execution_count": 1,
   "metadata": {},
   "outputs": [
    {
     "name": "stdout",
     "output_type": "stream",
     "text": [
      "[7.44601638e-04 1.48920328e-03 2.23380491e-03 ... 9.98510797e-01\n",
      " 9.99255398e-01 1.00000000e+00]\n",
      "IQR: 18.79, Min: 21.93, Max: 96.29, Q1: 51.01, Q3: 69.8, Median: 61.129999999999995, Lower Whisker: 22.825, Upper Whisker: 97.985\n"
     ]
    },
    {
     "data": {
      "image/png": "[encoded data removed]",
      "text/plain": [
       "<Figure size 640x480 with 1 Axes>"
      ]
     },
     "metadata": {},
     "output_type": "display_data"
    },
    {
     "name": "stdout",
     "output_type": "stream",
     "text": [
      "0       False\n",
      "1       False\n",
      "2       False\n",
      "3       False\n",
      "4       False\n",
      "        ...  \n",
      "1338    False\n",
      "1339    False\n",
      "1340    False\n",
      "1341    False\n",
      "1342    False\n",
      "Name: Age at Diagnosis, Length: 1343, dtype: bool\n"
     ]
    }
   ],
   "source": [
    "import numpy as np\n",
    "import pandas as pd\n",
    "import seaborn as sns\n",
    "import matplotlib.pyplot as plt\n",
    "\n",
    "class ECDFClass():\n",
    "    def __init__(self, x):\n",
    "        self.x = x\n",
    "        self.z = np.sort(x.unique()) # Extract and sort unique values for x\n",
    "        compare = x.to_numpy().reshape(-1,1) <= self.z.reshape(1,-1) # Compare x and Z values Broadcasting!!\n",
    "    \n",
    "        self.ecdf = np.mean(compare,axis=0) # Average over x indices for each z\n",
    "    \n",
    "    def get_ecdf(self):\n",
    "        return self.ecdf\n",
    "    \n",
    "    def get_quantile(self, quantile):\n",
    "        dist = (self.ecdf-quantile) ** 2 # Compute squared distance of F_hat from .5\n",
    "        closest_indices = np.where( dist == dist.min() ) # Find the indices closest to 1/2\n",
    "        q = np.mean(self.z[closest_indices])\n",
    "        return q\n",
    "    \n",
    "    def iqr(self):\n",
    "        q1 = self.get_quantile(0.25)\n",
    "        q3 = self.get_quantile(0.75)\n",
    "        return q3 - q1\n",
    "\n",
    "    def whiskers(self):\n",
    "        iqr = self.iqr()\n",
    "        whisker_1 = (1.5 * iqr) + self.get_quantile(0.75)\n",
    "        whisker_2 =  self.get_quantile(0.25) - (1.5 * iqr)\n",
    "        return whisker_1, whisker_2\n",
    "    \n",
    "    def print_ecdf(self):\n",
    "        print(self.ecdf)\n",
    "\n",
    "    def compare_answers(self):\n",
    "        min = self.get_quantile(0)\n",
    "        max = self.get_quantile(1)\n",
    "        first_quartile = self.get_quantile(0.25)\n",
    "        third_quartile = self.get_quantile(0.75)\n",
    "        upper_whisker, lower_whisker = self.whiskers()\n",
    "        median = self.get_quantile(0.50)\n",
    "        iqr = self.iqr()\n",
    "\n",
    "        print(f\"IQR: {iqr}, Min: {min}, Max: {max}, Q1: {first_quartile}, Q3: {third_quartile}, Median: {median}, Lower Whisker: {lower_whisker}, Upper Whisker: {upper_whisker}\")        \n",
    "        stats = [{\n",
    "            'med': median,\n",
    "            'q1': first_quartile,\n",
    "            'q3': third_quartile,\n",
    "            'whislo': lower_whisker,\n",
    "            'whishi': upper_whisker,\n",
    "            'fliers': [21.93]  # Add outliers here if you have them\n",
    "        }]\n",
    "\n",
    "        plt.boxplot([], positions=[1])  # Create empty boxplot first\n",
    "        ax = plt.gca()\n",
    "        ax.bxp(stats, positions=[1])  # Use bxp on the axes object\n",
    "        plt.show() \n",
    "\n",
    "    def outliers(self):\n",
    "        upper_whisker, lower_whisker = self.whiskers()\n",
    "        # Anything outside the whiskers is an **outlier**; write a method that returns a Boolean vector indicating if the observations are outliers\n",
    "        outlier_mask = (self.x < lower_whisker) | (self.x > upper_whisker)\n",
    "        return outlier_mask\n",
    "\n",
    "df = pd.read_csv('./data/metabric.csv') # Metabric Cancer Data\n",
    "x = df['Age at Diagnosis']\n",
    "\n",
    "myClass = ECDFClass(x)\n",
    "myClass.print_ecdf()\n",
    "myClass.compare_answers()\n",
    "print(myClass.outliers())"
   ]
  },
  {
   "cell_type": "code",
   "execution_count": 6,
   "metadata": {},
   "outputs": [
    {
     "data": {
      "application/vnd.microsoft.datawrangler.viewer.v0+json": {
       "columns": [
        {
         "name": "index",
         "rawType": "object",
         "type": "string"
        },
        {
         "name": "Age at Diagnosis",
         "rawType": "float64",
         "type": "float"
        }
       ],
       "ref": "26e21f41-3002-400b-b4b0-fed18b5a617a",
       "rows": [
        [
         "count",
         "1343.0"
        ],
        [
         "mean",
         "60.59807892777364"
        ],
        [
         "std",
         "12.966330249987424"
        ],
        [
         "min",
         "21.93"
        ],
        [
         "25%",
         "51.045"
        ],
        [
         "50%",
         "61.14"
        ],
        [
         "75%",
         "69.815"
        ],
        [
         "max",
         "96.29"
        ]
       ],
       "shape": {
        "columns": 1,
        "rows": 8
       }
      },
      "text/plain": [
       "count    1343.000000\n",
       "mean       60.598079\n",
       "std        12.966330\n",
       "min        21.930000\n",
       "25%        51.045000\n",
       "50%        61.140000\n",
       "75%        69.815000\n",
       "max        96.290000\n",
       "Name: Age at Diagnosis, dtype: float64"
      ]
     },
     "execution_count": 6,
     "metadata": {},
     "output_type": "execute_result"
    }
   ],
   "source": [
    "x.describe()"
   ]
  }
 ],
 "metadata": {
  "kernelspec": {
   "display_name": "ds6001",
   "language": "python",
   "name": "python3"
  },
  "language_info": {
   "codemirror_mode": {
    "name": "ipython",
    "version": 3
   },
   "file_extension": ".py",
   "mimetype": "text/x-python",
   "name": "python",
   "nbconvert_exporter": "python",
   "pygments_lexer": "ipython3",
   "version": "3.13.5"
  }
 },
 "nbformat": 4,
 "nbformat_minor": 2
}
