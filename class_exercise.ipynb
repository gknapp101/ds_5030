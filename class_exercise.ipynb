{
 "cells": [
  {
   "cell_type": "markdown",
   "metadata": {},
   "source": [
    "## Exercise 2: Quantiles, IQR, Whiskers, Boxplot, Outliers\n",
    "From the ECDF, we get a fairly good picture of the distribution of the data: A **quantile** adjusts the concept of the median so that instead of 50% of the mass below and 50% above, the $q$-quantile has $q$% of the mass below and $(1-q)$% of the mass above.\n",
    "\n",
    "Write a Python class that:\n",
    "- Computes the ECDF $\\hat{F}_N(x)$\n",
    "- Has a method to compute any quantile without using Numpy\n",
    "- Has a method to compute the **Interquartile Range (IQR)** -- the .25 quantile and the .75 quantile, which brackets 50% of the data -- and the **whiskers**: $\\pm 1.5 \\times \\text{IQR}$ from the edges of the IQR\n",
    "- Has a method to compute a five-number summary/boxplot: the whiskers, the minimum and maximum, the IQR and the median\n",
    "- Compare your answers with `sns.boxplot`; making a boxplot yourself is kind of a pain, but you could make a 5-number summary visualization\n",
    "- Anything outside the whiskers is an **outlier**; write a method that returns a Boolean vector indicating if the observations are outliers\n",
    "\n",
    "Then use your ECDF class to analyze numeric variables from a dataset of your choice"
   ]
  },
  {
   "cell_type": "code",
   "execution_count": 3,
   "metadata": {},
   "outputs": [
    {
     "name": "stdout",
     "output_type": "stream",
     "text": [
      "Downloading course data...\n",
      "Download complete\n",
      "Extracting data files...\n",
      "Data extracted\n"
     ]
    },
    {
     "data": {
      "text/plain": [
       "'data'"
      ]
     },
     "execution_count": 3,
     "metadata": {},
     "output_type": "execute_result"
    }
   ],
   "source": [
    "#Get Data\n",
    "def download_data(force=False):\n",
    "    \"\"\"Download and extract course data from Zenodo.\"\"\"\n",
    "    import urllib.request\n",
    "    import zipfile\n",
    "    import os\n",
    "    \n",
    "    zip_path = 'data.zip'\n",
    "    data_dir = 'data'\n",
    "    \n",
    "    if not os.path.exists(zip_path) or force:\n",
    "        print(\"Downloading course data...\")\n",
    "        urllib.request.urlretrieve(\n",
    "            'https://zenodo.org/records/16954427/files/data.zip?download=1',\n",
    "            zip_path\n",
    "        )\n",
    "        print(\"Download complete\")\n",
    "    \n",
    "    if not os.path.exists(data_dir):\n",
    "        print(\"Extracting data files...\")\n",
    "        with zipfile.ZipFile(zip_path, 'r') as zip_ref:\n",
    "            zip_ref.extractall(data_dir)\n",
    "        print(\"Data extracted\")\n",
    "    \n",
    "    return data_dir\n",
    "\n",
    "download_data()\n"
   ]
  },
  {
   "cell_type": "code",
   "execution_count": null,
   "metadata": {},
   "outputs": [
    {
     "ename": "AttributeError",
     "evalue": "'numpy.ndarray' object has no attribute 'unique'",
     "output_type": "error",
     "traceback": [
      "\u001b[31m---------------------------------------------------------------------------\u001b[39m",
      "\u001b[31mAttributeError\u001b[39m                            Traceback (most recent call last)",
      "\u001b[36mCell\u001b[39m\u001b[36m \u001b[39m\u001b[32mIn[2]\u001b[39m\u001b[32m, line 20\u001b[39m\n\u001b[32m     16\u001b[39m     \u001b[38;5;28;01mdef\u001b[39;00m\u001b[38;5;250m \u001b[39m\u001b[34mprint_ecdf\u001b[39m(\u001b[38;5;28mself\u001b[39m):\n\u001b[32m     17\u001b[39m         \u001b[38;5;28mprint\u001b[39m(\u001b[38;5;28mself\u001b[39m.ecdf)\n\u001b[32m---> \u001b[39m\u001b[32m20\u001b[39m myClass = \u001b[43mECDFClass\u001b[49m\u001b[43m(\u001b[49m\u001b[43mnp\u001b[49m\u001b[43m.\u001b[49m\u001b[43mrandom\u001b[49m\u001b[43m.\u001b[49m\u001b[43mnormal\u001b[49m\u001b[43m(\u001b[49m\u001b[32;43m0\u001b[39;49m\u001b[43m,\u001b[49m\u001b[32;43m1\u001b[39;49m\u001b[43m,\u001b[49m\u001b[32;43m1000\u001b[39;49m\u001b[43m)\u001b[49m\u001b[43m)\u001b[49m\n\u001b[32m     21\u001b[39m myClass.print_ecdf()\n",
      "\u001b[36mCell\u001b[39m\u001b[36m \u001b[39m\u001b[32mIn[2]\u001b[39m\u001b[32m, line 7\u001b[39m, in \u001b[36mECDFClass.__init__\u001b[39m\u001b[34m(self, x)\u001b[39m\n\u001b[32m      5\u001b[39m \u001b[38;5;28;01mdef\u001b[39;00m\u001b[38;5;250m \u001b[39m\u001b[34m__init__\u001b[39m(\u001b[38;5;28mself\u001b[39m, x):\n\u001b[32m      6\u001b[39m     \u001b[38;5;28mself\u001b[39m.x = x\n\u001b[32m----> \u001b[39m\u001b[32m7\u001b[39m     \u001b[38;5;28mself\u001b[39m.z = np.sort(\u001b[43mx\u001b[49m\u001b[43m.\u001b[49m\u001b[43munique\u001b[49m()) \u001b[38;5;66;03m# Extract and sort unique values for x\u001b[39;00m\n\u001b[32m      8\u001b[39m     compare = x.to_numpy().reshape(-\u001b[32m1\u001b[39m,\u001b[32m1\u001b[39m) <= \u001b[38;5;28mself\u001b[39m.z.reshape(\u001b[32m1\u001b[39m,-\u001b[32m1\u001b[39m) \u001b[38;5;66;03m# Compare x and Z values Broadcasting!!\u001b[39;00m\n\u001b[32m     10\u001b[39m     \u001b[38;5;28mself\u001b[39m.ecdf = np.mean(compare,axis=\u001b[32m0\u001b[39m)\n",
      "\u001b[31mAttributeError\u001b[39m: 'numpy.ndarray' object has no attribute 'unique'"
     ]
    }
   ],
   "source": [
    "import numpy as np\n",
    "\n",
    "\n",
    "class ECDFClass():\n",
    "    def __init__(self, x):\n",
    "        self.x = x\n",
    "        self.z = np.sort(x.unique()) # Extract and sort unique values for x\n",
    "        compare = x.to_numpy().reshape(-1,1) <= self.z.reshape(1,-1) # Compare x and Z values Broadcasting!!\n",
    "    \n",
    "        self.ecdf = np.mean(compare,axis=0) # Average over x indices for each z\n",
    "    \n",
    "    def get_ecdf(self):\n",
    "        return self.ecdf\n",
    "    def get_quantile(self, quantile):\n",
    "        pass\n",
    "    def print_ecdf(self):\n",
    "        print(self.ecdf)\n",
    "        \n",
    "\n",
    "myClass = ECDFClass(x)\n",
    "myClass.print_ecdf()"
   ]
  },
  {
   "cell_type": "code",
   "execution_count": null,
   "metadata": {},
   "outputs": [],
   "source": []
  }
 ],
 "metadata": {
  "kernelspec": {
   "display_name": "base",
   "language": "python",
   "name": "python3"
  },
  "language_info": {
   "codemirror_mode": {
    "name": "ipython",
    "version": 3
   },
   "file_extension": ".py",
   "mimetype": "text/x-python",
   "name": "python",
   "nbconvert_exporter": "python",
   "pygments_lexer": "ipython3",
   "version": "3.13.5"
  }
 },
 "nbformat": 4,
 "nbformat_minor": 2
}
