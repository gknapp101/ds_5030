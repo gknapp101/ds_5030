{
 "cells": [
  {
   "cell_type": "markdown",
   "metadata": {},
   "source": [
    "## Exercise 2: Quantiles, IQR, Whiskers, Boxplot, Outliers\n",
    "From the ECDF, we get a fairly good picture of the distribution of the data: A **quantile** adjusts the concept of the median so that instead of 50% of the mass below and 50% above, the $q$-quantile has $q$% of the mass below and $(1-q)$% of the mass above.\n",
    "\n",
    "Write a Python class that:\n",
    "- Computes the ECDF $\\hat{F}_N(x)$\n",
    "- Has a method to compute any quantile without using Numpy\n",
    "- Has a method to compute the **Interquartile Range (IQR)** -- the .25 quantile and the .75 quantile, which brackets 50% of the data -- and the **whiskers**: $\\pm 1.5 \\times \\text{IQR}$ from the edges of the IQR\n",
    "- Has a method to compute a five-number summary/boxplot: the whiskers, the minimum and maximum, the IQR and the median\n",
    "- Compare your answers with `sns.boxplot`; making a boxplot yourself is kind of a pain, but you could make a 5-number summary visualization\n",
    "- Anything outside the whiskers is an **outlier**; write a method that returns a Boolean vector indicating if the observations are outliers\n",
    "\n",
    "Then use your ECDF class to analyze numeric variables from a dataset of your choice"
   ]
  },
  {
   "cell_type": "code",
   "execution_count": 3,
   "metadata": {},
   "outputs": [
    {
     "name": "stdout",
     "output_type": "stream",
     "text": [
      "Downloading course data...\n",
      "Download complete\n",
      "Extracting data files...\n",
      "Data extracted\n"
     ]
    },
    {
     "data": {
      "text/plain": [
       "'data'"
      ]
     },
     "execution_count": 3,
     "metadata": {},
     "output_type": "execute_result"
    }
   ],
   "source": [
    "#Get Data\n",
    "def download_data(force=False):\n",
    "    \"\"\"Download and extract course data from Zenodo.\"\"\"\n",
    "    import urllib.request\n",
    "    import zipfile\n",
    "    import os\n",
    "    \n",
    "    zip_path = 'data.zip'\n",
    "    data_dir = 'data'\n",
    "    \n",
    "    if not os.path.exists(zip_path) or force:\n",
    "        print(\"Downloading course data...\")\n",
    "        urllib.request.urlretrieve(\n",
    "            'https://zenodo.org/records/16954427/files/data.zip?download=1',\n",
    "            zip_path\n",
    "        )\n",
    "        print(\"Download complete\")\n",
    "    \n",
    "    if not os.path.exists(data_dir):\n",
    "        print(\"Extracting data files...\")\n",
    "        with zipfile.ZipFile(zip_path, 'r') as zip_ref:\n",
    "            zip_ref.extractall(data_dir)\n",
    "        print(\"Data extracted\")\n",
    "    \n",
    "    return data_dir\n",
    "\n",
    "download_data()\n"
   ]
  },
  {
   "cell_type": "code",
   "execution_count": null,
   "metadata": {},
   "outputs": [
    {
     "name": "stdout",
     "output_type": "stream",
     "text": [
      "[7.44601638e-04 1.48920328e-03 2.23380491e-03 ... 9.98510797e-01\n",
      " 9.99255398e-01 1.00000000e+00]\n",
      "61.129999999999995\n"
     ]
    }
   ],
   "source": [
    "import numpy as np\n",
    "import pandas as pd\n",
    "\n",
    "\n",
    "class ECDFClass():\n",
    "    def __init__(self, x):\n",
    "        self.x = x\n",
    "        self.z = np.sort(x.unique()) # Extract and sort unique values for x\n",
    "        compare = x.to_numpy().reshape(-1,1) <= self.z.reshape(1,-1) # Compare x and Z values Broadcasting!!\n",
    "    \n",
    "        self.ecdf = np.mean(compare,axis=0) # Average over x indices for each z\n",
    "    \n",
    "    def get_ecdf(self):\n",
    "        return self.ecdf\n",
    "    def get_quantile(self, quantile):\n",
    "        dist = (self.ecdf-quantile) ** 2 # Compute squared distance of F_hat from .5\n",
    "        closest_indices = np.where( dist == dist.min() ) # Find the indices closest to 1/2\n",
    "        q = np.mean(self.z[closest_indices])\n",
    "        return q\n",
    "    def print_ecdf(self):\n",
    "        print(self.ecdf)\n",
    "        \n",
    "\n",
    "df = pd.read_csv('./data/metabric.csv') # Metabric Cancer Data\n",
    "x = df['Age at Diagnosis']\n",
    "\n",
    "myClass = ECDFClass(x)\n",
    "myClass.print_ecdf()\n",
    "print(myClass.get_quantile(0.5))\n"
   ]
  },
  {
   "cell_type": "code",
   "execution_count": 6,
   "metadata": {},
   "outputs": [
    {
     "data": {
      "application/vnd.microsoft.datawrangler.viewer.v0+json": {
       "columns": [
        {
         "name": "index",
         "rawType": "object",
         "type": "string"
        },
        {
         "name": "Age at Diagnosis",
         "rawType": "float64",
         "type": "float"
        }
       ],
       "ref": "26e21f41-3002-400b-b4b0-fed18b5a617a",
       "rows": [
        [
         "count",
         "1343.0"
        ],
        [
         "mean",
         "60.59807892777364"
        ],
        [
         "std",
         "12.966330249987424"
        ],
        [
         "min",
         "21.93"
        ],
        [
         "25%",
         "51.045"
        ],
        [
         "50%",
         "61.14"
        ],
        [
         "75%",
         "69.815"
        ],
        [
         "max",
         "96.29"
        ]
       ],
       "shape": {
        "columns": 1,
        "rows": 8
       }
      },
      "text/plain": [
       "count    1343.000000\n",
       "mean       60.598079\n",
       "std        12.966330\n",
       "min        21.930000\n",
       "25%        51.045000\n",
       "50%        61.140000\n",
       "75%        69.815000\n",
       "max        96.290000\n",
       "Name: Age at Diagnosis, dtype: float64"
      ]
     },
     "execution_count": 6,
     "metadata": {},
     "output_type": "execute_result"
    }
   ],
   "source": [
    "x.describe()"
   ]
  }
 ],
 "metadata": {
  "kernelspec": {
   "display_name": "ds6001",
   "language": "python",
   "name": "python3"
  },
  "language_info": {
   "codemirror_mode": {
    "name": "ipython",
    "version": 3
   },
   "file_extension": ".py",
   "mimetype": "text/x-python",
   "name": "python",
   "nbconvert_exporter": "python",
   "pygments_lexer": "ipython3",
   "version": "3.13.5"
  }
 },
 "nbformat": 4,
 "nbformat_minor": 2
}
